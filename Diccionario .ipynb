{
 "cells": [
  {
   "cell_type": "markdown",
   "id": "59a74860",
   "metadata": {},
   "source": [
    "## Diccionarios "
   ]
  },
  {
   "cell_type": "markdown",
   "id": "19fb6670",
   "metadata": {},
   "source": [
    "1.Crea una función que genere un nuevo diccionario basado en una lista de strings , en el cual la llave de cada ítem sea la palabra del string y su valor la longitud de la palabra."
   ]
  },
  {
   "cell_type": "code",
   "execution_count": 3,
   "id": "94261e11",
   "metadata": {},
   "outputs": [
    {
     "name": "stdout",
     "output_type": "stream",
     "text": [
      "{'Pera': 4, 'Manzana': 7, 'Uva': 3, 'Mango': 5}\n"
     ]
    }
   ],
   "source": [
    "lista = [\"Pera\", \"Manzana\", \"Uva\", \"Mango\"]\n",
    "def myDic (lista):\n",
    "    return{fruta:len(fruta) for fruta in lista}\n",
    "\n",
    "print(myDic(lista))\n",
    "   \n",
    "    "
   ]
  },
  {
   "cell_type": "code",
   "execution_count": 5,
   "id": "c6215e66",
   "metadata": {},
   "outputs": [
    {
     "name": "stdout",
     "output_type": "stream",
     "text": [
      "<function myDic at 0x0000018CC8063E20>\n"
     ]
    }
   ],
   "source": [
    "lista = [\"Pera\", \"Manzana\", \"Uva\", \"Mango\"]\n",
    "\n",
    "def myDic (lista):\n",
    "    my_dic = {}\n",
    "    for element in lista:\n",
    "        my_dic[element] = len(element)\n",
    "    return myDic\n",
    "\n",
    "print(myDic(lista))"
   ]
  },
  {
   "cell_type": "markdown",
   "id": "367f324f",
   "metadata": {},
   "source": [
    "2.Crea una función que genere un nuevo diccionario basado en una lista de strings , en el cual la llave de cada ítem sea la palabra del string y su valor las veces que aparece en la lista."
   ]
  },
  {
   "cell_type": "code",
   "execution_count": 6,
   "id": "1a454349",
   "metadata": {},
   "outputs": [
    {
     "name": "stdout",
     "output_type": "stream",
     "text": [
      "{'pera': 2, 'uva': 1, 'mango': 1}\n"
     ]
    }
   ],
   "source": [
    "frutas = [\"pera\", \"uva\", \"pera\", \"mango\"]\n",
    "\n",
    "def newDic (lista):\n",
    "     return{nfrutas:frutas.count(nfrutas) for nfrutas in frutas}\n",
    "print(newDic(frutas))\n",
    "   "
   ]
  },
  {
   "cell_type": "markdown",
   "id": "6a967266",
   "metadata": {},
   "source": [
    "3.Crea una función que retorne un número que sea la cuenta de los valores no duplicados en un diccionario."
   ]
  },
  {
   "cell_type": "code",
   "execution_count": 26,
   "id": "10356dce",
   "metadata": {},
   "outputs": [
    {
     "name": "stdout",
     "output_type": "stream",
     "text": [
      "2\n"
     ]
    }
   ],
   "source": [
    "animales = {\"perro\": 3, \"gatos\": 7, \"loro\": 3, \"pajaro\": 2}\n",
    "lista = list(animales.values())\n",
    "\n",
    "\n",
    "def num (animales):\n",
    "    counter = 0\n",
    "    for i in lista:\n",
    "        if lista.count(i) == 1:\n",
    "            counter += 1\n",
    "    #print(counter)\n",
    "    return counter\n",
    "\n",
    "print(num(animales))\n",
    "    "
   ]
  },
  {
   "cell_type": "markdown",
   "id": "b80fc9d9",
   "metadata": {},
   "source": [
    "4.Crea una función que genere un nuevo diccionario a partir de dos listas, una con elementos strings y otra con elementos numéricos. Suponga que las listas son del mismo tamaño."
   ]
  },
  {
   "cell_type": "code",
   "execution_count": 30,
   "id": "ac93eb8e",
   "metadata": {},
   "outputs": [
    {
     "name": "stdout",
     "output_type": "stream",
     "text": [
      "{'gato': 7, 'perro': 4, 'delfin': 1, 'loro': 5}\n"
     ]
    }
   ],
   "source": [
    "palabras = [\"gato\", \"perro\", \"delfin\", \"loro\"]\n",
    "numero = [7, 4, 1, 5]\n",
    "\n",
    "def nuevoDicc (palabras, numero):\n",
    "    Diccionario = {key:value for key, value in zip(palabras, numero)}\n",
    "    ##print(Diccionario)\n",
    "    return Diccionario\n",
    "\n",
    "print(nuevoDicc(palabras, numero))"
   ]
  },
  {
   "cell_type": "markdown",
   "id": "47661ba4",
   "metadata": {},
   "source": [
    "5.Crea una función que reciba nombres y notas de estudiantes, y retorne un diccionario donde las llaves sean los nombres y los valores sean listas con las notas de cada estudiante."
   ]
  },
  {
   "cell_type": "code",
   "execution_count": 6,
   "id": "18932d21",
   "metadata": {},
   "outputs": [
    {
     "name": "stdout",
     "output_type": "stream",
     "text": [
      "{'Pedro': 3.4, 'Maria': 5.0, 'Jose': 4.6, 'Pau': 4.8}\n"
     ]
    }
   ],
   "source": [
    "estudiantes = [\"Pedro\", \"Maria\", \"Jose\", \"Pau\"]\n",
    "notas = [3.4, 5.0, 4.6, 4.8]\n",
    "\n",
    "def NotaEstu (estudiantes, notas):\n",
    "    list1 = []\n",
    "    list2 = []\n",
    "    list3 = []\n",
    "    list4 = []\n",
    "    lista = {key: value for key, value in zip(estudiantes, notas)}\n",
    "    return lista\n",
    "\n",
    "print(NotaEstu(estudiantes, notas))\n"
   ]
  },
  {
   "cell_type": "markdown",
   "id": "ef862065",
   "metadata": {},
   "source": [
    "6.Crea una función que calcule y retorne el promedio de la nota para cada uno de los estudiantes de un diccionario donde las llaves son los nombres y los valores son listas con las notas de cada estudiante."
   ]
  },
  {
   "cell_type": "code",
   "execution_count": 36,
   "id": "d97a63dc",
   "metadata": {},
   "outputs": [
    {
     "name": "stdout",
     "output_type": "stream",
     "text": [
      "4.45\n"
     ]
    }
   ],
   "source": [
    "Notas = {\"Pedro\": 3.4, \"Maria\": 5.0, \"Jose\": 4.6, \"Pau\": 4.8}\n",
    "notasList = list(Notas.values())\n",
    "\n",
    "def promedio (notasList):\n",
    "    prom = sum(notasList)/len(notasList)\n",
    "    return prom\n",
    "\n",
    "print(promedio(notasList))"
   ]
  },
  {
   "cell_type": "code",
   "execution_count": null,
   "id": "3142df65",
   "metadata": {},
   "outputs": [],
   "source": []
  }
 ],
 "metadata": {
  "kernelspec": {
   "display_name": "Python 3 (ipykernel)",
   "language": "python",
   "name": "python3"
  },
  "language_info": {
   "codemirror_mode": {
    "name": "ipython",
    "version": 3
   },
   "file_extension": ".py",
   "mimetype": "text/x-python",
   "name": "python",
   "nbconvert_exporter": "python",
   "pygments_lexer": "ipython3",
   "version": "3.10.9"
  }
 },
 "nbformat": 4,
 "nbformat_minor": 5
}
